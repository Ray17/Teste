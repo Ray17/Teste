{
 "cells": [
  {
   "cell_type": "markdown",
   "metadata": {},
   "source": [
    "## Exercise 1 "
   ]
  },
  {
   "cell_type": "markdown",
   "metadata": {},
   "source": [
    "### a)\n"
   ]
  },
  {
   "cell_type": "markdown",
   "metadata": {},
   "source": [
    "Desde que $v$=$(\\textbf{v}_{1},\\textbf{v}_{2},\\textbf{v}_{3})$ é uma base de um espaço vetorial $V$, qualquer elemento $m \\in V$ é descrito como uma combinação linear de elemtos da base, ou seja:\n",
    "\n",
    "$$\\textbf{m} = x\\;\\textbf{v}_{1} + y\\;\\textbf{v}_{2} + z\\;\\textbf{v}_{3} \\;\\; , \\;\\;\\ x,y,z \\; \\in \\; \\Re$$\n",
    "\n",
    "$$\\Leftrightarrow \\textbf{m} = (x,y,z)_{v}$$\n",
    "$$\\Rightarrow f(\\textbf{m}) = x\\;f(\\textbf{v}_{1}) + y\\;f(\\textbf{v}_{2})\n",
    "+ z\\;f(\\textbf{v}_{3})$$\n",
    "\n",
    "\n",
    "$$\\Rightarrow f(\\textbf{m}) = x  \n",
    "    \\begin{bmatrix}%array with vert lines\n",
    "        4 \\\\\n",
    "        0 \\\\\n",
    "        -2\\;\\;\n",
    "    \\end{bmatrix} + y \n",
    "    \\begin{bmatrix}%array with vert lines\n",
    "        -2\\;\\; \\\\\n",
    "        0 \\\\\n",
    "        1\n",
    "    \\end{bmatrix} + z \n",
    "    \\begin{bmatrix}%array with vert lines\n",
    "        2 \\\\\n",
    "        1 \\\\\n",
    "       -1\\;\\;\n",
    "    \\end{bmatrix}$$"
   ]
  },
  {
   "cell_type": "markdown",
   "metadata": {},
   "source": [
    "$$\\Leftrightarrow f(\\textbf{m}) = \n",
    "\\begin{bmatrix}\n",
    "   4 &-2\\;\\;&2 \\\\\n",
    "   0 &0 &1 \\\\\n",
    "   -2\\;\\; &1 &-1\\;\\;\n",
    "\\end{bmatrix}\n",
    "\\cdot\n",
    "\\begin{bmatrix}\n",
    "    x \\\\\n",
    "    y \\\\\n",
    "    z \\\\\n",
    "\\end{bmatrix}$$\n",
    "\n",
    "$$\\Leftrightarrow f(\\textbf{m}) =\n",
    "\\begin{bmatrix}\n",
    "   4 &-2\\;\\;&2 \\\\\n",
    "   0 &0 &1 \\\\\n",
    "   -2\\;\\; &1 &-1\\;\\;\n",
    "\\end{bmatrix}\n",
    "\\cdot\n",
    "\\textbf{m}$$\n",
    "\n",
    "Portanto, a matriz correspondente à transformação linear $f : V \\rightarrow \\Re^{3}$ é :\n",
    "\n",
    "$$A_{v}=\n",
    "\\begin{bmatrix}\n",
    "   4 &-2\\;\\;&2 \\\\\n",
    "   0 &0 &1 \\\\\n",
    "   -2\\;\\; &1 &-1\\;\\;\n",
    "\\end{bmatrix}$$"
   ]
  },
  {
   "cell_type": "markdown",
   "metadata": {},
   "source": [
    "Logo,\n",
    "$$f((17,-15,16))=A_{v} \\cdot \n",
    "\\begin{bmatrix}\n",
    "    17 \\\\\n",
    "    -15\\;\\; \\\\\n",
    "    16 \\\\\n",
    "\\end{bmatrix}$$"
   ]
  },
  {
   "cell_type": "code",
   "execution_count": 9,
   "metadata": {},
   "outputs": [],
   "source": [
    "import numpy as np\n",
    "\n",
    "A=np.array([[4 ,-2 ,2],\n",
    "           [0, 0, 1],\n",
    "           [-2, 1, -1]])\n",
    "m= np.array([17,-15,16])\n"
   ]
  },
  {
   "cell_type": "code",
   "execution_count": 11,
   "metadata": {},
   "outputs": [
    {
     "data": {
      "text/plain": [
       "array([130,  16, -65])"
      ]
     },
     "execution_count": 11,
     "metadata": {},
     "output_type": "execute_result"
    }
   ],
   "source": [
    "np.dot(A,m)"
   ]
  },
  {
   "cell_type": "markdown",
   "metadata": {},
   "source": [
    "Logo,\n",
    "$$f((17,-15,16))=\n",
    "\\begin{bmatrix}\n",
    "    130 \\\\\n",
    "    16\\\\\n",
    "    -65\\;\\; \\\\\n",
    "\\end{bmatrix}$$"
   ]
  },
  {
   "cell_type": "markdown",
   "metadata": {},
   "source": [
    "### b)"
   ]
  },
  {
   "cell_type": "markdown",
   "metadata": {},
   "source": [
    "Dada a matriz $A$ , o kernel é definido por $\\textbf{u}$ tal que $A\\cdot \\textbf{u}=0$\n",
    "\n",
    "escalonando a matriz A:\n",
    "\n"
   ]
  },
  {
   "cell_type": "code",
   "execution_count": 13,
   "metadata": {},
   "outputs": [
    {
     "name": "stdout",
     "output_type": "stream",
     "text": [
      "|\t4.0 \t-2.0 \t2.0 \t  |\n",
      "\n",
      "\n",
      "|\t0.0 \t0.0 \t1.0 \t  |\n",
      "\n",
      "\n",
      "|\t-2.0 \t1.0 \t-1.0 \t  |\n",
      "\n",
      "\n",
      "\n",
      "\n",
      "\n",
      "\n",
      "|\t-2.0 \t1.0 \t-1.0 \t  |\n",
      "\n",
      "\n",
      "|\t0.0 \t0.0 \t1.0 \t  |\n",
      "\n",
      "\n",
      "|\t0.0 \t0.0 \t0.0 \t  |\n",
      "\n",
      "\n"
     ]
    }
   ],
   "source": [
    "def pivotamento(A):\n",
    "    \"\"\"A função recebe uma matriz A (n x m) e\n",
    "    retorna a matriz zerada na diagonal inferior\n",
    "    esquerda.\"\"\"\n",
    "    for i in range(len(A) - 1):\n",
    "        for j in range(i + 1,len(A)):\n",
    "            n1 = A[j][i]\n",
    "            if n1 == 0:\n",
    "                for k in range(i,len(A)):\n",
    "                    if A[k][i] != 0:\n",
    "                        swap(A, i, k)\n",
    "                        n1 = A[j][i]\n",
    "            n2 = A[i][i]\n",
    "            if n2 == 0:\n",
    "                continue\n",
    "            div = n1 / n2\n",
    "            A[j] = sumVector(multVector(A[i], -div), A[j])\n",
    "    return A\n",
    "\n",
    "def multVector(v, x):\n",
    "    newV = []\n",
    "    for i in range(len(v)):\n",
    "        newV += [v[i] * x]\n",
    "    return newV\n",
    "\n",
    "def sumVector(v1, v2):\n",
    "    newV = []\n",
    "    for i in range(len(v1)):\n",
    "        newV += [v1[i] + v2[i]]\n",
    "    return newV\n",
    "\n",
    "def swap(A, i, j):\n",
    "    newI = []\n",
    "    newJ = []\n",
    "    for index in range(len(A) ):\n",
    "        newI += [A[j][index]]\n",
    "        newJ += [A[i][index]]\n",
    "    A[i] = newI\n",
    "    A[j] = newJ\n",
    "\n",
    "def printMatrix(A):\n",
    "    for i in A:\n",
    "        print (\"|\\t\", end=\"\")\n",
    "        for j in i:\n",
    "            print (\"%.1f\" %(j), \"\\t\", end=\"\")\n",
    "        print (\"  |\")\n",
    "        print(\"\\n\")\n",
    "\n",
    "#Matriz A\n",
    "A = [[4 ,-2 ,2], [0, 0, 1], [-2, 1, -1]]\n",
    "\n",
    "printMatrix(A)\n",
    "print(\"\\n\\n\")\n",
    "B=pivotamento(A)\n",
    "print(\"\")\n",
    "printMatrix(B)"
   ]
  },
  {
   "cell_type": "markdown",
   "metadata": {},
   "source": [
    "Assim, é equivalente a resolver :\n",
    "\n",
    "$$\\Leftrightarrow\n",
    "\\begin{bmatrix}\n",
    "    -2\\;\\; &1 &-1\\;\\; \\\\\n",
    "    0 &0 &1 \\\\\n",
    "    0 &0 &0\n",
    "\\end{bmatrix} \\cdot \\textbf{u} = 0$$\n",
    "\n",
    "$$\\Leftrightarrow \\begin{bmatrix}\n",
    "    -2\\;\\; \\\\\n",
    "    0 \\\\\n",
    "    0\n",
    "\\end{bmatrix} \\cdot x +\n",
    "\\begin{bmatrix}\n",
    "    1 \\\\\n",
    "    0 \\\\\n",
    "    0\n",
    "\\end{bmatrix} \\cdot y +\n",
    "\\begin{bmatrix}\n",
    "    -1\\;\\; \\\\\n",
    "    1 \\\\\n",
    "    0\n",
    "\\end{bmatrix} \\cdot z = 0$$"
   ]
  },
  {
   "cell_type": "markdown",
   "metadata": {},
   "source": [
    "Logo, $z=0$ , $y=2\\;x\\;\\;$ e , então:\n",
    "\n",
    "$$\\textbf{u}=x\\cdot\n",
    "\\begin{bmatrix}\n",
    "    2 \\\\\n",
    "    1 \\\\\n",
    "    0\n",
    "\\end{bmatrix} \\;\\;\\;\\;\\;\\;\\; ,\\forall x \\in \\Re$$"
   ]
  },
  {
   "cell_type": "markdown",
   "metadata": {},
   "source": [
    "portanto, \n",
    "\n",
    "$$\\begin{bmatrix}\n",
    "    2 \\\\\n",
    "    1 \\\\\n",
    "    0\n",
    "\\end{bmatrix} \\;\\;, \\;\\;\n",
    "\\begin{bmatrix}\n",
    "    4 \\\\\n",
    "    2 \\\\\n",
    "    0\n",
    "\\end{bmatrix}$$ são dois vetores pertencentes a $ker(f)$"
   ]
  },
  {
   "cell_type": "markdown",
   "metadata": {},
   "source": [
    "Logo, $dim(Ker(f))=1$ e ,pelo Teorema Núcleo-Imagem, $dim(range(f(V)))=2$"
   ]
  },
  {
   "cell_type": "markdown",
   "metadata": {},
   "source": [
    "## B)  - REMAKE\n"
   ]
  },
  {
   "cell_type": "code",
   "execution_count": 46,
   "metadata": {},
   "outputs": [],
   "source": [
    "import sympy as sp\n",
    "\n",
    "\n",
    "\n"
   ]
  },
  {
   "cell_type": "code",
   "execution_count": 47,
   "metadata": {},
   "outputs": [],
   "source": [
    "\n",
    "\n",
    "F=sp.Matrix([[4.0,-2.0,2.0],\n",
    "            [0.0,0.0,1.0],\n",
    "            [-2.0,1.0,-1.0]\n",
    "            ])\n",
    "#F=F.transpose()"
   ]
  },
  {
   "cell_type": "code",
   "execution_count": 48,
   "metadata": {},
   "outputs": [
    {
     "data": {
      "text/plain": [
       "(Matrix([\n",
       " [  1, -0.5, 0],\n",
       " [0.0,  0.0, 1],\n",
       " [  0,    0, 0]]), (0, 2))"
      ]
     },
     "execution_count": 48,
     "metadata": {},
     "output_type": "execute_result"
    }
   ],
   "source": [
    "F.rref()"
   ]
  },
  {
   "cell_type": "code",
   "execution_count": 49,
   "metadata": {},
   "outputs": [
    {
     "data": {
      "text/plain": [
       "[Matrix([\n",
       " [0.5],\n",
       " [  1],\n",
       " [  0]])]"
      ]
     },
     "execution_count": 49,
     "metadata": {},
     "output_type": "execute_result"
    }
   ],
   "source": [
    "F.nullspace()"
   ]
  },
  {
   "cell_type": "markdown",
   "metadata": {},
   "source": [
    "#### PODE-SE DETERMINAR a matriz de g pela sua transformação inversa, ou seja:"
   ]
  },
  {
   "cell_type": "markdown",
   "metadata": {},
   "source": [
    "$$g^{-1}(g(\\textbf{u}_{i}))=g^{-1}(\\textbf{v}_{i})$$\n",
    "\n",
    "Sendo:\n",
    "\n",
    "$$g=(g^{-1})^{-1}$$"
   ]
  },
  {
   "cell_type": "code",
   "execution_count": 53,
   "metadata": {},
   "outputs": [],
   "source": [
    "#Transformação Inversa\n",
    "G_inv=sp.Matrix([[1.0,0.0,1.0],\n",
    "            [0.0,1.0,0.0],\n",
    "            [1/2,0.0,-1/2]\n",
    "            ])\n",
    "G_inv=G_inv.transpose()"
   ]
  },
  {
   "cell_type": "code",
   "execution_count": 56,
   "metadata": {},
   "outputs": [
    {
     "data": {
      "text/latex": [
       "$\\displaystyle \\left[\\begin{matrix}1.0 & 0.0 & 0.5\\\\0.0 & 1.0 & 0.0\\\\1.0 & 0.0 & -0.5\\end{matrix}\\right]$"
      ],
      "text/plain": [
       "Matrix([\n",
       "[1.0, 0.0,  0.5],\n",
       "[0.0, 1.0,  0.0],\n",
       "[1.0, 0.0, -0.5]])"
      ]
     },
     "execution_count": 56,
     "metadata": {},
     "output_type": "execute_result"
    }
   ],
   "source": [
    "G_inv"
   ]
  },
  {
   "cell_type": "code",
   "execution_count": 54,
   "metadata": {},
   "outputs": [],
   "source": [
    "G=G_inv**-1"
   ]
  },
  {
   "cell_type": "code",
   "execution_count": 55,
   "metadata": {},
   "outputs": [
    {
     "data": {
      "text/latex": [
       "$\\displaystyle \\left[\\begin{matrix}0.5 & 0 & 0.5\\\\0 & 1.0 & 0\\\\1.0 & 0 & -1.0\\end{matrix}\\right]$"
      ],
      "text/plain": [
       "Matrix([\n",
       "[0.5,   0,  0.5],\n",
       "[  0, 1.0,    0],\n",
       "[1.0,   0, -1.0]])"
      ]
     },
     "execution_count": 55,
     "metadata": {},
     "output_type": "execute_result"
    }
   ],
   "source": [
    "G"
   ]
  },
  {
   "cell_type": "code",
   "execution_count": 58,
   "metadata": {},
   "outputs": [
    {
     "data": {
      "text/plain": [
       "[Matrix([\n",
       " [0.5],\n",
       " [  0],\n",
       " [1.0]]), Matrix([\n",
       " [  0],\n",
       " [1.0],\n",
       " [  0]]), Matrix([\n",
       " [ 0.5],\n",
       " [   0],\n",
       " [-1.0]])]"
      ]
     },
     "execution_count": 58,
     "metadata": {},
     "output_type": "execute_result"
    }
   ],
   "source": [
    "G.columnspace() #list"
   ]
  },
  {
   "cell_type": "code",
   "execution_count": 59,
   "metadata": {},
   "outputs": [
    {
     "data": {
      "text/plain": [
       "3"
      ]
     },
     "execution_count": 59,
     "metadata": {},
     "output_type": "execute_result"
    }
   ],
   "source": [
    "A=G.columnspace()\n",
    "len(A) # Legnth of A / DIM(A)"
   ]
  },
  {
   "cell_type": "code",
   "execution_count": 57,
   "metadata": {},
   "outputs": [
    {
     "data": {
      "text/latex": [
       "$\\displaystyle \\left[\\begin{matrix}1.0 & -0.5 & 0.5\\\\0 & 0 & 1.0\\\\6.0 & -3.0 & 3.0\\end{matrix}\\right]$"
      ],
      "text/plain": [
       "Matrix([\n",
       "[1.0, -0.5, 0.5],\n",
       "[  0,    0, 1.0],\n",
       "[6.0, -3.0, 3.0]])"
      ]
     },
     "execution_count": 57,
     "metadata": {},
     "output_type": "execute_result"
    }
   ],
   "source": [
    "h=G*F\n",
    "h"
   ]
  },
  {
   "cell_type": "code",
   "execution_count": 60,
   "metadata": {},
   "outputs": [
    {
     "data": {
      "text/plain": [
       "{3: 1, 1: 1, 0: 1}"
      ]
     },
     "execution_count": 60,
     "metadata": {},
     "output_type": "execute_result"
    }
   ],
   "source": [
    "h.eigenvals()"
   ]
  },
  {
   "cell_type": "code",
   "execution_count": 62,
   "metadata": {},
   "outputs": [
    {
     "data": {
      "text/plain": [
       "[(0, 1, [Matrix([\n",
       "   [0.5],\n",
       "   [1.0],\n",
       "   [  0]])]), (1.00000000000000, 1, [Matrix([\n",
       "   [0.166666666666667],\n",
       "   [              1.0],\n",
       "   [              1.0]])]), (3.00000000000000, 1, [Matrix([\n",
       "   [0.166666666666667],\n",
       "   [0.333333333333333],\n",
       "   [              1.0]])])]"
      ]
     },
     "execution_count": 62,
     "metadata": {},
     "output_type": "execute_result"
    }
   ],
   "source": [
    "A=h.eigenvects()\n",
    "A"
   ]
  },
  {
   "cell_type": "code",
   "execution_count": 65,
   "metadata": {},
   "outputs": [
    {
     "data": {
      "text/plain": [
       "(1.00000000000000, 1, [Matrix([\n",
       "  [0.166666666666667],\n",
       "  [              1.0],\n",
       "  [              1.0]])])"
      ]
     },
     "execution_count": 65,
     "metadata": {},
     "output_type": "execute_result"
    }
   ],
   "source": [
    "A[1]"
   ]
  },
  {
   "cell_type": "code",
   "execution_count": 67,
   "metadata": {},
   "outputs": [
    {
     "data": {
      "text/latex": [
       "$\\displaystyle \\frac{1}{6}$"
      ],
      "text/plain": [
       "1/6"
      ]
     },
     "execution_count": 67,
     "metadata": {},
     "output_type": "execute_result"
    }
   ],
   "source": [
    "sp.nsimplify(0.166666666666667)"
   ]
  },
  {
   "cell_type": "markdown",
   "metadata": {},
   "source": [
    "### c)"
   ]
  },
  {
   "cell_type": "markdown",
   "metadata": {},
   "source": [
    "$\\{(1,0,1)\\;,\\;(0,1,0)\\;,\\;(\\frac{1}{2},0,-\\frac{1}{2} \\}$ É L.I., sendo uma base do $\\Re^{3}$ conforme o escalonamento:"
   ]
  },
  {
   "cell_type": "code",
   "execution_count": 14,
   "metadata": {},
   "outputs": [
    {
     "name": "stdout",
     "output_type": "stream",
     "text": [
      "|\t1.0 \t0.0 \t1.0 \t  |\n",
      "\n",
      "\n",
      "|\t0.0 \t1.0 \t0.0 \t  |\n",
      "\n",
      "\n",
      "|\t0.5 \t0.0 \t-0.5 \t  |\n",
      "\n",
      "\n",
      "\n",
      "\n",
      "\n",
      "\n",
      "|\t0.5 \t0.0 \t-0.5 \t  |\n",
      "\n",
      "\n",
      "|\t0.0 \t1.0 \t0.0 \t  |\n",
      "\n",
      "\n",
      "|\t0.0 \t0.0 \t2.0 \t  |\n",
      "\n",
      "\n"
     ]
    }
   ],
   "source": [
    "A = [[1,0,1], [0, 1, 0], [1/2, 0, -1/2]]\n",
    "\n",
    "printMatrix(A)\n",
    "print(\"\\n\\n\")\n",
    "B=pivotamento(A)\n",
    "print(\"\")\n",
    "printMatrix(B)"
   ]
  },
  {
   "cell_type": "markdown",
   "metadata": {},
   "source": [
    "A matriz acima é a forma escalonada, portanto, a transformação tem núcleo de dimensão nula, ou seja $ker(g)=\\{0\\}$ . Pelo Teorema Núcleo-Imagem, $dim(range(g(\\Re^{3})))=3$"
   ]
  },
  {
   "cell_type": "markdown",
   "metadata": {},
   "source": [
    "### d)"
   ]
  },
  {
   "cell_type": "code",
   "execution_count": 41,
   "metadata": {},
   "outputs": [
    {
     "name": "stdout",
     "output_type": "stream",
     "text": [
      "[[ 1.   0.   0.5]\n",
      " [ 0.   1.   0. ]\n",
      " [ 1.   0.  -0.5]]\n"
     ]
    }
   ],
   "source": [
    "A = [[1.0,0.0,1.0], [0.0, 1.0, 0.0], [1/2, 0.0, -1/2]]\n",
    "B=np.transpose(A)\n",
    "A=np.array([[4.0 ,-2.0 ,2.0],\n",
    "           [0.0, 0.0, 1.0],\n",
    "           [-2.0, 1.0, -1.0]])\n",
    "print(B)"
   ]
  },
  {
   "cell_type": "markdown",
   "metadata": {},
   "source": [
    "Obteve-se acima a matriz $B$ correspondente à transformação linear $g(\\Re^{3})$ por meio da matriz de:\n",
    "\n"
   ]
  },
  {
   "cell_type": "markdown",
   "metadata": {},
   "source": [
    "$$f(\\textbf{m}) =\n",
    "\\begin{bmatrix}\n",
    "   4 &-2\\;\\;&2 \\\\\n",
    "   0 &0 &1 \\\\\n",
    "   -2\\;\\; &1 &-1\\;\\;\n",
    "\\end{bmatrix}\n",
    "\\cdot\n",
    "\\textbf{m}$$\n",
    "\n",
    "$$g(f(\\textbf{m}))=\n",
    "\\begin{bmatrix}\n",
    "   1 &0 &\\frac{1}{2} \\\\\n",
    "   0 &0 &0 \\\\\n",
    "   1 &0 &-\\frac{1}{2}\\;\\;\n",
    "\\end{bmatrix}\n",
    "\\cdot\n",
    "\\Bigg(\\begin{bmatrix}\n",
    "   4 &-2\\;\\;&2 \\\\\n",
    "   0 &0 &1 \\\\\n",
    "   -2\\;\\; &1 &-1\\;\\;\n",
    "\\end{bmatrix}\n",
    "\\cdot\n",
    "\\textbf{m}\\Bigg)\n",
    "$$"
   ]
  },
  {
   "cell_type": "markdown",
   "metadata": {},
   "source": [
    "Pela propriedade associativa, \n",
    "$$g(f(\\textbf{m}))=\n",
    "\\Bigg(\n",
    "\\begin{bmatrix}\n",
    "   1 &0 &\\frac{1}{2} \\\\\n",
    "   0 &0 &0 \\\\\n",
    "   1 &0 &-\\frac{1}{2}\\;\\;\n",
    "\\end{bmatrix}\n",
    "\\cdot\n",
    "\\begin{bmatrix}\n",
    "   4 &-2\\;\\;&2 \\\\\n",
    "   0 &0 &1 \\\\\n",
    "   -2\\;\\; &1 &-1\\;\\;\n",
    "\\end{bmatrix}\\Bigg)\n",
    "\\cdot\n",
    "\\textbf{m}\n",
    "$$\n",
    "\n",
    "finalmente,\n"
   ]
  },
  {
   "cell_type": "code",
   "execution_count": 42,
   "metadata": {},
   "outputs": [
    {
     "name": "stdout",
     "output_type": "stream",
     "text": [
      "[[ 3.  -1.5  1.5]\n",
      " [ 0.   0.   1. ]\n",
      " [ 5.  -2.5  2.5]]\n"
     ]
    }
   ],
   "source": [
    "M=np.dot(B,A)\n",
    "print(M)"
   ]
  },
  {
   "cell_type": "markdown",
   "metadata": {},
   "source": [
    "$$g(f(\\textbf{m}))=\n",
    "\\begin{bmatrix}\n",
    "   3 &-\\frac{3}{2}\\;\\; &\\frac{3}{2} \\\\\n",
    "   0 &0 &1 \\\\\n",
    "   5 &-\\frac{5}{2} &-\\frac{5}{2}\\;\\;\n",
    "\\end{bmatrix}\n",
    "\\cdot\n",
    "\\textbf{m}\n",
    "$$"
   ]
  },
  {
   "cell_type": "markdown",
   "metadata": {},
   "source": [
    "$$\\Leftrightarrow h(\\textbf{m}) = M_{3x3} \\cdot \\textbf{m} , \\;\\; \\textbf{m} \\in \\textbf{V}$$\n",
    "\n",
    "Portanto, $h(\\lambda \\textbf{m})=M \\cdot (\\lambda \\;\\textbf{m}) = \\lambda(M\\;\\cdot\\textbf{m})= \\lambda h(\\textbf{m})$ , pela propriedade associativa das matrizes.\n",
    "\n",
    "Também,  $$h(\\textbf{m} + \\textbf{n}) =M_{3x3} \\cdot(\\textbf{m} + \\textbf{n}) =M_{3x3} \\cdot \\textbf{m} +M_{3x3} \\cdot \\textbf{n} = h(\\textbf{m}) + h(\\textbf{n}) $$ pela propriedade distributiva das matrizes."
   ]
  },
  {
   "cell_type": "markdown",
   "metadata": {},
   "source": [
    "Resta descobrir  um fixvector  $w$ :\n",
    "\n",
    "$$M\\cdot \\textbf{m} = \\lambda \\cdot \\textbf{m} $$\n",
    "\n",
    "$$\\Leftrightarrow(M-\\lambda I)\\cdot \\textbf{m} = 0$$\n",
    "\n",
    "Basta descobrir os autovetores de $M$,  por meio do polinômio característico:\n",
    "\n",
    "$det(M-\\lambda I) = 0$\n"
   ]
  },
  {
   "cell_type": "code",
   "execution_count": 44,
   "metadata": {},
   "outputs": [
    {
     "data": {
      "text/plain": [
       "(array([5.00000000e+00, 6.02970065e-17, 5.00000000e-01]),\n",
       " array([[-5.07092553e-01, -4.47213595e-01, -2.59160528e-01],\n",
       "        [-1.69030851e-01, -8.94427191e-01, -8.63868426e-01],\n",
       "        [-8.45154255e-01, -1.84549588e-16, -4.31934213e-01]]))"
      ]
     },
     "execution_count": 44,
     "metadata": {},
     "output_type": "execute_result"
    }
   ],
   "source": [
    "np.linalg.eig(M)"
   ]
  },
  {
   "cell_type": "markdown",
   "metadata": {},
   "source": [
    "escolhem-se 2 autovalores : $5$ e $\\frac{1}{2}$\n",
    "\n",
    "assim, podem-se encontrar elementos $\\textbf{w}_{1}$ e $\\textbf{w}_{2}$ tais que :\n",
    "\n",
    "$$(M-5I)\\textbf{w}_{1}=0$$\n",
    "\n",
    "e \n",
    "$$(M-\\frac{1}{2}I)\\textbf{w}_{2}=0$$\n"
   ]
  },
  {
   "cell_type": "code",
   "execution_count": 48,
   "metadata": {},
   "outputs": [
    {
     "name": "stdout",
     "output_type": "stream",
     "text": [
      "[[ 5.  -2.5 -2.5]\n",
      " [ 0.  -5.   1. ]\n",
      " [ 0.   0.   0. ]]\n",
      "\n",
      "[[ 5.  -2.5  2. ]\n",
      " [ 0.  -0.5  1. ]\n",
      " [ 0.   0.   0. ]]\n"
     ]
    }
   ],
   "source": [
    "I=np.array([[1.0,0.0,0.0],\n",
    "            [0.0,1.0,0.0],\n",
    "            [0.0,0.0,1.0]])\n",
    "D=pivotamento(M-5*I)\n",
    "print(D)\n",
    "\n",
    "print(\"\")\n",
    "\n",
    "E=pivotamento(M-I/2)\n",
    "\n",
    "print(E)"
   ]
  },
  {
   "cell_type": "markdown",
   "metadata": {},
   "source": [
    "Logo,\n",
    "$$\\begin{bmatrix}\n",
    "   5 &-\\frac{5}{2}\\;\\; &-\\frac{5}{2}\\;\\; \\\\\n",
    "   0 &-5\\;\\; &1 \\\\\n",
    "   0 &0 &0\n",
    "\\end{bmatrix}\n",
    "\\cdot\n",
    "\\textbf{w}_{1}=0$$\n",
    "\n",
    "$$\\begin{bmatrix}\n",
    "   5 &-\\frac{5}{2}\\;\\; &2 \\\\\n",
    "   0 &-\\frac{1}{2}\\;\\; &1 \\\\\n",
    "   0 &0 &0\n",
    "\\end{bmatrix}\n",
    "\\cdot\n",
    "\\textbf{w}_{2}=0$$"
   ]
  },
  {
   "cell_type": "markdown",
   "metadata": {},
   "source": [
    "$$\\textbf{w}_{1}=\\begin{bmatrix}\n",
    "    \\frac{3z}{5} \\\\\n",
    "    \\frac{z}{5} \\\\\n",
    "    z\n",
    "\\end{bmatrix} = z\n",
    "\\begin{bmatrix}\n",
    "    \\frac{3}{5} \\\\\n",
    "    \\frac{1}{5} \\\\\n",
    "    1\n",
    "\\end{bmatrix}$$\n",
    "\n",
    "$$\\textbf{w}_{2}=\\begin{bmatrix}\n",
    "    \\frac{3z}{5} \\\\\n",
    "    2z \\\\\n",
    "    z\n",
    "\\end{bmatrix} = z\n",
    "\\begin{bmatrix}\n",
    "    \\frac{3}{5} \\\\\n",
    "    2 \\\\\n",
    "    1\n",
    "\\end{bmatrix},\\\\\n",
    "\\forall z \\in \\Re$$"
   ]
  },
  {
   "cell_type": "markdown",
   "metadata": {},
   "source": [
    "## Exercise 2"
   ]
  },
  {
   "cell_type": "markdown",
   "metadata": {},
   "source": [
    "### a)\n",
    "\n",
    "Seja $\\textbf{E}_{1}=\n",
    "\\begin{bmatrix}\n",
    "    1 &0\\\\\n",
    "    0 &0\n",
    "\\end{bmatrix}$ , \n",
    "$\\textbf{E}_{2}=\n",
    "\\begin{bmatrix}\n",
    "    0 &1\\\\\n",
    "    0 &0\n",
    "\\end{bmatrix}$,\n",
    "$\\textbf{E}_{3}=\n",
    "\\begin{bmatrix}\n",
    "    0 &0\\\\\n",
    "    1 &0\n",
    "\\end{bmatrix}$,\n",
    "$\\textbf{E}_{4}=\n",
    "\\begin{bmatrix}\n",
    "    0 &0\\\\\n",
    "    0 &1\n",
    "\\end{bmatrix}$, então\n",
    "$(\\textbf{E}_{1},\\textbf{E}_{2}, \\textbf{E}_{3}, \\textbf{E}_{4})$ é base canônica $E$ para $\\Re^{2x2}$\n",
    "\n",
    "\n",
    "\n"
   ]
  },
  {
   "cell_type": "markdown",
   "metadata": {},
   "source": [
    "Dessa forma, na base $E$:\n",
    "\n",
    "$\\textbf{A}_{1}=(1,-1,1,2),\n",
    "\\textbf{A}_{2}=(1,-1,2,1),\n",
    "\\textbf{A}_{3}=(1,-1,2,2)$\n",
    "\n",
    "Dessa forma,\n",
    "\n",
    "$$\\begin{bmatrix}\n",
    "1 &-1 &1 &2\\\\\n",
    "1 &-1 &2 &1\\\\\n",
    "1 &-1 &2 &2\n",
    "\\end{bmatrix} \\sim M$$\n",
    "\n",
    "\n"
   ]
  },
  {
   "cell_type": "code",
   "execution_count": 46,
   "metadata": {},
   "outputs": [],
   "source": [
    "import sympy as sp\n",
    "\n"
   ]
  },
  {
   "cell_type": "code",
   "execution_count": 61,
   "metadata": {},
   "outputs": [
    {
     "name": "stdout",
     "output_type": "stream",
     "text": [
      "(Matrix([\n",
      "[1, -1, 0, 0],\n",
      "[0,  0, 1, 0],\n",
      "[0,  0, 0, 1]]), (0, 2, 3))\n"
     ]
    }
   ],
   "source": [
    "M=sp.Matrix([[1, -1, 1, 2],\n",
    "          [1, -1, 2, 1],\n",
    "          [1, -1, 2, 2]])\n",
    "\n",
    "print(M.rref())"
   ]
  },
  {
   "cell_type": "code",
   "execution_count": 62,
   "metadata": {},
   "outputs": [
    {
     "name": "stdout",
     "output_type": "stream",
     "text": [
      "[[ 1. -1.  1.  2.]\n",
      " [ 0.  1.  2. -4.]\n",
      " [ 0.  0.  1.  0.]\n",
      " [ 0.  0.  0.  1.]]\n"
     ]
    }
   ],
   "source": [
    "print(C)"
   ]
  },
  {
   "cell_type": "markdown",
   "metadata": {},
   "source": [
    "$$\\begin{bmatrix}\n",
    "1 &-1 &1 &2\\\\\n",
    "1 &-1 &2 &1\\\\\n",
    "1 &-1 &2 &2\n",
    "\\end{bmatrix} \\sim\n",
    "\\begin{bmatrix}\n",
    "1 &-1 &1 &2\\\\\n",
    "0 &0 &1 &-1\\\\\n",
    "0 &0 &1 &0\n",
    "\\end{bmatrix} = M$$\n",
    "\n",
    "Portanto, constatamos que sua Echelon form não possui linha identicamente nula. Logo, o conjunto $a$ é LI, sendo, portanto, uma base do subspaço de $span\\{a\\}$"
   ]
  },
  {
   "cell_type": "markdown",
   "metadata": {},
   "source": [
    "### b)"
   ]
  },
  {
   "cell_type": "markdown",
   "metadata": {},
   "source": [
    "escrevendo-se as matrizes $\\textbf{B}$ na base $E$, se um vetor for combinação linear de um conjunto LD, então surge uma linha nula na matriz cujas linhas são esses vetores."
   ]
  },
  {
   "cell_type": "markdown",
   "metadata": {},
   "source": [
    "Testando-se $\\textbf{B}_{1}$"
   ]
  },
  {
   "cell_type": "code",
   "execution_count": 56,
   "metadata": {},
   "outputs": [
    {
     "name": "stdout",
     "output_type": "stream",
     "text": [
      "(Matrix([\n",
      "[1, 0, 0, 0],\n",
      "[0, 1, 0, 0],\n",
      "[0, 0, 1, 0],\n",
      "[0, 0, 0, 1]]), (0, 1, 2, 3))\n"
     ]
    }
   ],
   "source": [
    "H=sp.Matrix([[1.0,-1.0,1.0,2.0],[1.0,-1.0,2.0,1.0],[1.0,-1.0,2.0,2.0],[2.0,-1.0,3.0,0.0]])\n",
    "print(H.rref())"
   ]
  },
  {
   "cell_type": "markdown",
   "metadata": {},
   "source": [
    "Ao escalonar a matriz, percebe-se que o conjunto $(\\textbf{A}_{1},\\textbf{A}_{2},\\textbf{A}_{3},\\textbf{B}_{1})$ é LI"
   ]
  },
  {
   "cell_type": "markdown",
   "metadata": {},
   "source": [
    "Testando-se $\\textbf{B}_{2}$"
   ]
  },
  {
   "cell_type": "code",
   "execution_count": 68,
   "metadata": {},
   "outputs": [
    {
     "name": "stdout",
     "output_type": "stream",
     "text": [
      "(Matrix([\n",
      "[1, -1.0, 0, 0],\n",
      "[0,    0, 1, 0],\n",
      "[0,    0, 0, 1],\n",
      "[0,    0, 0, 0]]), (0, 2, 3))\n"
     ]
    }
   ],
   "source": [
    "H=sp.Matrix([[1.0,-1.0,1.0,2.0],\n",
    "            [1.0,-1.0,2.0,1.0],\n",
    "            [1.0,-1.0,2.0,2.0],\n",
    "            [1.0,-1.0,1.0,1.0]])\n",
    "print(H.rref())\n",
    "#C=pivotamento(H)\n",
    "#print(C)"
   ]
  },
  {
   "cell_type": "markdown",
   "metadata": {},
   "source": [
    "Ao escalonar a matriz, percebe-se que o conjunto $(\\textbf{A}_{1},\\textbf{A}_{2},\\textbf{A}_{3},\\textbf{B}_{2})$ é LD."
   ]
  },
  {
   "cell_type": "markdown",
   "metadata": {},
   "source": [
    "Testando-se $\\textbf{B}_{3}$"
   ]
  },
  {
   "cell_type": "code",
   "execution_count": 58,
   "metadata": {},
   "outputs": [
    {
     "name": "stdout",
     "output_type": "stream",
     "text": [
      "(Matrix([\n",
      "[1, 0, 0, 0],\n",
      "[0, 1, 0, 0],\n",
      "[0, 0, 1, 0],\n",
      "[0, 0, 0, 1]]), (0, 1, 2, 3))\n"
     ]
    }
   ],
   "source": [
    "H=sp.Matrix([[1.0,-1.0,1.0,2.0],\n",
    "            [1.0,-1.0,2.0,1.0],\n",
    "            [1.0,-1.0,2.0,2.0],\n",
    "            [2.0,-1.0,4.0,0.0]])\n",
    "print(H.rref())"
   ]
  },
  {
   "cell_type": "markdown",
   "metadata": {},
   "source": [
    "Portanto, somente $B_{2} \\in U$"
   ]
  },
  {
   "cell_type": "markdown",
   "metadata": {},
   "source": [
    "Pode-se perceber, pelas operações linhas que anularam a última linha que:\n",
    "\n",
    "    \n",
    "$$\\textbf{B}_{2}= 1\\textbf{A}_{1}-2\\textbf{A}_{2} +1\\textbf{A}_{3}$$ \n",
    "\n",
    "Logo,\n",
    "$$\\textbf{B}_{2}=(1,-2,1)\\begin{bmatrix}\n",
    "\\textbf{A}_{1}\\\\\n",
    "\\textbf{A}_{2}\\\\\n",
    "\\textbf{A}_{3}\\\\\n",
    "\\end{bmatrix}$$\n"
   ]
  },
  {
   "cell_type": "markdown",
   "metadata": {},
   "source": [
    "### c)\n"
   ]
  },
  {
   "cell_type": "markdown",
   "metadata": {},
   "source": [
    "É possível notar que \n",
    "$$\\textbf{B}_{3}-\\textbf{B}_{1}=\\begin{bmatrix}\n",
    "0 &0\\\\\n",
    "1 &0\n",
    "\\end{bmatrix} =\\textbf{A}_{3}-\\textbf{A}_{1} $$\n",
    "\n",
    "Portanto, a base para esse subespaço é:\n",
    "\n",
    "$$b=(\\begin{bmatrix}\n",
    "0 &0\\\\\n",
    "1 &0\n",
    "\\end{bmatrix})$$\n",
    "\n"
   ]
  },
  {
   "cell_type": "markdown",
   "metadata": {},
   "source": [
    "## 3)"
   ]
  },
  {
   "cell_type": "markdown",
   "metadata": {},
   "source": [
    "### a)\n",
    "\n",
    "A equação é linear porque ela é expressa como potências de primeiro grau de derivadas de $x$, ou seja, os termos são lineares com respeito as derivadas de x."
   ]
  },
  {
   "cell_type": "markdown",
   "metadata": {},
   "source": [
    "### b)"
   ]
  },
  {
   "cell_type": "code",
   "execution_count": 70,
   "metadata": {},
   "outputs": [],
   "source": [
    "import sympy as sp\n",
    "\n",
    "x,t,a,b,c = sp.symbols('x,t,a , b ,c')"
   ]
  },
  {
   "cell_type": "code",
   "execution_count": 77,
   "metadata": {},
   "outputs": [],
   "source": [
    "X=a*(t)+b"
   ]
  },
  {
   "cell_type": "code",
   "execution_count": 79,
   "metadata": {},
   "outputs": [
    {
     "data": {
      "text/latex": [
       "$\\displaystyle a - 3 t^{2} \\left(a t + b\\right)$"
      ],
      "text/plain": [
       "a - 3*t**2*(a*t + b)"
      ]
     },
     "execution_count": 79,
     "metadata": {},
     "output_type": "execute_result"
    }
   ],
   "source": [
    "sp.diff(X,t)-3*(t**2)*X"
   ]
  },
  {
   "cell_type": "markdown",
   "metadata": {},
   "source": [
    "Logo,\n",
    "$$(-3a)t^{3}+(-3b)t^{2}+a \\equiv 1 -3t^{2}$$\n",
    "\n",
    "$$\\Rightarrow a=1 , b=0$$\n",
    "\n",
    "1) está provada"
   ]
  },
  {
   "cell_type": "code",
   "execution_count": null,
   "metadata": {},
   "outputs": [],
   "source": []
  }
 ],
 "metadata": {
  "kernelspec": {
   "display_name": "Python 3",
   "language": "python",
   "name": "python3"
  },
  "language_info": {
   "codemirror_mode": {
    "name": "ipython",
    "version": 3
   },
   "file_extension": ".py",
   "mimetype": "text/x-python",
   "name": "python",
   "nbconvert_exporter": "python",
   "pygments_lexer": "ipython3",
   "version": "3.7.3"
  }
 },
 "nbformat": 4,
 "nbformat_minor": 2
}
